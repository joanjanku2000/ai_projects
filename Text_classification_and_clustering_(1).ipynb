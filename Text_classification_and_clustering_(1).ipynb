{
  "nbformat": 4,
  "nbformat_minor": 0,
  "metadata": {
    "colab": {
      "provenance": [],
      "include_colab_link": true
    },
    "kernelspec": {
      "name": "python3",
      "display_name": "Python 3"
    },
    "language_info": {
      "name": "python"
    }
  },
  "cells": [
    {
      "cell_type": "markdown",
      "metadata": {
        "id": "view-in-github",
        "colab_type": "text"
      },
      "source": [
        "<a href=\"https://colab.research.google.com/github/joanjanku2000/ai_projects/blob/AI-1/Text_classification_and_clustering_(1).ipynb\" target=\"_parent\"><img src=\"https://colab.research.google.com/assets/colab-badge.svg\" alt=\"Open In Colab\"/></a>"
      ]
    },
    {
      "cell_type": "code",
      "source": [
        "import nltk\n",
        "nltk.download('stopwords')\n",
        "nltk.download('wordnet')\n",
        "nltk.download('omw-1.4')"
      ],
      "metadata": {
        "colab": {
          "base_uri": "https://localhost:8080/"
        },
        "id": "cDiD4qxyOyKK",
        "outputId": "5d4e820e-37a9-4c0f-bee4-ab324739c660"
      },
      "execution_count": null,
      "outputs": [
        {
          "output_type": "stream",
          "name": "stderr",
          "text": [
            "[nltk_data] Downloading package stopwords to /root/nltk_data...\n",
            "[nltk_data]   Package stopwords is already up-to-date!\n",
            "[nltk_data] Downloading package wordnet to /root/nltk_data...\n",
            "[nltk_data]   Package wordnet is already up-to-date!\n",
            "[nltk_data] Downloading package omw-1.4 to /root/nltk_data...\n",
            "[nltk_data]   Package omw-1.4 is already up-to-date!\n"
          ]
        },
        {
          "output_type": "execute_result",
          "data": {
            "text/plain": [
              "True"
            ]
          },
          "metadata": {},
          "execution_count": 10
        }
      ]
    },
    {
      "cell_type": "code",
      "source": [
        "# Importimi i librarive \n",
        "from sklearn.feature_extraction.text import TfidfVectorizer\n",
        "from sklearn.neighbors import KNeighborsClassifier\n",
        "from sklearn.cluster import KMeans\n",
        "from nltk.corpus import stopwords \n",
        "from nltk.stem.wordnet import WordNetLemmatizer\n",
        "import string\n",
        "import re\n",
        "import numpy as np\n",
        "from collections import Counter"
      ],
      "metadata": {
        "id": "K8LG9ektGqIy"
      },
      "execution_count": null,
      "outputs": []
    },
    {
      "cell_type": "code",
      "source": [
        "stop = set(stopwords.words('english')) #heq nga fjalitë fjalët e ndaluara\n",
        "exclude = set(string.punctuation)   #fshi shenjat e pikësimit\n",
        "lemma = WordNetLemmatizer()         #bëj lematizimin e fjaleve"
      ],
      "metadata": {
        "id": "B0bZRYMrGtJx"
      },
      "execution_count": null,
      "outputs": []
    },
    {
      "cell_type": "code",
      "source": [
        "# Përpunimi i fjalive ku heqim shenjat e pikësimit,fjalët e ndaluara dhe numrat \n",
        "def clean(doc):  #përdor funksionin clean i cili mer si parametër dokumentin\n",
        "    stop_free = \" \".join([i for i in doc.lower().split() if i not in stop]) #metoda join pas heqjes së stop words\n",
        "    punc_free = ''.join(ch for ch in stop_free if ch not in exclude) #metoda join pas heqjes së shenjave të pikësimit\n",
        "    normalized = \" \".join(lemma.lemmatize(word) for word in punc_free.split())#metoda join pas lematizimit\n",
        "    processed = re.sub(r\"\\d+\",\"\",normalized)\n",
        "    y = processed.split()\n",
        "    return y"
      ],
      "metadata": {
        "id": "kEwvw-oQGwa3"
      },
      "execution_count": null,
      "outputs": []
    },
    {
      "cell_type": "code",
      "source": [
        "path = \"/content/Sentences.txt\" #deklaroj pathin në të cilin do të marr të dhënat\n",
        "\n",
        "train_clean_sentences = []\n",
        "fp = open(path,'r')       #hap file\n",
        "for line in fp:           #kaloj në një cikël for për të gjitha të dhënat që do trajnohen\n",
        "    line = line.strip()   #kthen stringat me hapësira të hequra\n",
        "    cleaned = clean(line)   \n",
        "    cleaned = ' '.join(cleaned)\n",
        "    train_clean_sentences.append(cleaned)   #fjalitë e trajnuara i shtohen atyre të përpunuara\n",
        "       \n",
        "vectorizer = TfidfVectorizer(stop_words='english') \n",
        "X = vectorizer.fit_transform(train_clean_sentences)\n",
        "\n",
        "#Krijimi i etiketave për 30 fjalitë qe do trajnohen \n",
        "y_train = np.zeros(30)\n",
        "y_train[10:20] = 1\n",
        "y_train[20:30] = 2\n",
        "\n",
        "# Clustering i dokumentit me klasifikuesin KNN \n",
        "modelknn = KNeighborsClassifier(n_neighbors=5)\n",
        "modelknn.fit(X,y_train)\n",
        "\n",
        "# Clustering i të dhënave të trajnuara me teknikën K-means \n",
        "modelkmeans = KMeans(n_clusters=3, init='k-means++', max_iter=200, n_init=100)\n",
        "modelkmeans.fit(X)\n"
      ],
      "metadata": {
        "colab": {
          "base_uri": "https://localhost:8080/"
        },
        "id": "J29dDNTxG2iO",
        "outputId": "d77737cb-0801-4643-9174-1e338b6e5dee"
      },
      "execution_count": null,
      "outputs": [
        {
          "output_type": "execute_result",
          "data": {
            "text/plain": [
              "KMeans(max_iter=200, n_clusters=3, n_init=100)"
            ]
          },
          "metadata": {},
          "execution_count": 14
        }
      ]
    },
    {
      "cell_type": "code",
      "source": [
        "# Test Sentences\n",
        "import random\n",
        "test_path = \"/content/Sentences_Tests.txt\"\n",
        "test_clean_sentences = []\n",
        "fp1 = open(test_path,'r')      \n",
        "\n",
        "for line in fp1:           \n",
        "    line = line.strip()     \n",
        "    #cleaned = ' '.join(cleaned)\n",
        "    test_clean_sentences.append(line)  \n",
        "\n",
        "#random.shuffle(test_clean_sentences)\n",
        "print(test_clean_sentences)"
      ],
      "metadata": {
        "colab": {
          "base_uri": "https://localhost:8080/"
        },
        "id": "ug1Mee9TLAWb",
        "outputId": "d56aafd6-e8eb-4159-df5c-513770c77272"
      },
      "execution_count": null,
      "outputs": [
        {
          "output_type": "stream",
          "name": "stdout",
          "text": [
            "['Cricket is a bat-and-ball game played between two teams of eleven players on a field at the centre of which is a 22-yard (20-metre) pitch with a wicket at each end, each comprising two bails balanced on three stumps.', 'Means of dismissal include being bowled, when the ball hits the stumps and dislodges the bails, and by the fielding side either catching the ball after it is hit by the bat, but before it hits the ground, or hitting a wicket with the ball before a batter can cross the crease in front of the wicket.', 'When ten batters have been dismissed, the innings ends and the teams swap roles.', 'The game is adjudicated by two umpires, aided by a third umpire and match referee in international matches.', \"They communicate with two off-field scorers who record the match's statistical information.\", 'Forms of cricket range from Twenty20, with each team batting for a single innings of 20 overs and the game generally lasting three hours, to Test matches played over five days.', 'Traditionally cricketers play in all-white kit, but in limited overs cricket they wear club or team colours. In addition to the basic kit, some players wear protective gear to prevent injury caused by the ball, which is a hard, solid spheroid made of compressed leather with a slightly raised sewn seam enclosing a cork core layered with tightly wound string.', \"Women's cricket, which is organised and played separately, has also achieved international standard.\", 'Artificial intelligence (AI) is intelligence demonstrated by machines, as opposed to the natural intelligence displayed by animals and humans.', 'AI research has been defined as the field of study of intelligent agents, which refers to any system that perceives its environment and takes actions that maximize its chance of achieving its goals.', 'The term \"artificial intelligence\" had previously been used to describe machines that mimic and display \"human\" cognitive skills that are associated with the human mind, such as \"learning\" and \"problem-solving\".', 'This definition has since been rejected by major AI researchers who now describe AI in terms of rationality and acting rationally, which does not limit how intelligence can be articulated.', 'This raised philosophical arguments about the mind and the ethical consequences of creating artificial beings endowed with human-like intelligence; these issues have previously been explored by myth, fiction and philosophy since antiquity.', 'Computer scientists and philosophers have since suggested that AI may become an existential risk to humanity if its rational capacities are not steered towards beneficial goals.', 'The study of mechanical or \"formal\" reasoning began with philosophers and mathematicians in antiquity.', 'The study of mathematical logic led directly to Alan Turing\\'s theory of computation, which suggested that a machine, by shuffling symbols as simple as \"0\" and \"1\", could simulate any conceivable act of mathematical deduction.', 'Proponents included Allen Newell, Herbert A. Simon, and Marvin Minsky.', 'In the scope of its subject, chemistry occupies an intermediate position between physics and biology.', 'It is sometimes called the central science because it provides a foundation for understanding both basic and applied scientific disciplines at a fundamental level.', 'Primary chemical bonds, such covalent bonds, in which atoms share one or more electron(s); ionic bonds, in which an atom donates one or more electrons to another atom to produce ions (cations and anions);', 'Secondary chemical bonds, such as hydrogen bonds; Van der Waals force bonds; ion-ion interaction; ion-dipole interaction', 'Alchemy is often seen as linked to the quest to turn lead or other base metals into gold, though alchemists were also interested in many of the questions of modern chemistry.', 'In chemistry, matter is defined as anything that has rest mass and volume (it takes up space) and is made up of particles.', 'The atom is the basic unit of chemistry. It consists of a dense core called the atomic nucleus surrounded by a space occupied by an electron cloud.', 'A chemical element is a pure substance which is composed of a single type of atom, characterized by its particular number of protons in the nuclei of its atoms, known as the atomic number and represented by the symbol Z.', 'The mass number is the sum of the number of protons and neutrons in a nucleus.', '']\n"
          ]
        }
      ]
    },
    {
      "cell_type": "markdown",
      "source": [
        "**#Faza e testimit**"
      ],
      "metadata": {
        "id": "mvvJuQd6W-IR"
      }
    },
    {
      "cell_type": "code",
      "execution_count": null,
      "metadata": {
        "colab": {
          "base_uri": "https://localhost:8080/"
        },
        "id": "O0gnZafI5Kvx",
        "outputId": "7ac7c0b2-c965-4308-f450-281bc9dd7ec9"
      },
      "outputs": [
        {
          "output_type": "stream",
          "name": "stdout",
          "text": [
            "\n",
            "Below 3 sentences will be predicted against the learned nieghbourhood and learned clusters: \n",
            "0 Cricket is a bat-and-ball game played between two teams of eleven players on a field at the centre of which is a 22-yard (20-metre) pitch with a wicket at each end, each comprising two bails balanced on three stumps.\n",
            "1 Means of dismissal include being bowled, when the ball hits the stumps and dislodges the bails, and by the fielding side either catching the ball after it is hit by the bat, but before it hits the ground, or hitting a wicket with the ball before a batter can cross the crease in front of the wicket.\n",
            "2 When ten batters have been dismissed, the innings ends and the teams swap roles.\n",
            "3 The game is adjudicated by two umpires, aided by a third umpire and match referee in international matches.\n",
            "4 They communicate with two off-field scorers who record the match's statistical information.\n",
            "5 Forms of cricket range from Twenty20, with each team batting for a single innings of 20 overs and the game generally lasting three hours, to Test matches played over five days.\n",
            "6 Traditionally cricketers play in all-white kit, but in limited overs cricket they wear club or team colours. In addition to the basic kit, some players wear protective gear to prevent injury caused by the ball, which is a hard, solid spheroid made of compressed leather with a slightly raised sewn seam enclosing a cork core layered with tightly wound string.\n",
            "7 Women's cricket, which is organised and played separately, has also achieved international standard.\n",
            "8 Artificial intelligence (AI) is intelligence demonstrated by machines, as opposed to the natural intelligence displayed by animals and humans.\n",
            "9 AI research has been defined as the field of study of intelligent agents, which refers to any system that perceives its environment and takes actions that maximize its chance of achieving its goals.\n",
            "10 The term \"artificial intelligence\" had previously been used to describe machines that mimic and display \"human\" cognitive skills that are associated with the human mind, such as \"learning\" and \"problem-solving\".\n",
            "11 This definition has since been rejected by major AI researchers who now describe AI in terms of rationality and acting rationally, which does not limit how intelligence can be articulated.\n",
            "12 This raised philosophical arguments about the mind and the ethical consequences of creating artificial beings endowed with human-like intelligence; these issues have previously been explored by myth, fiction and philosophy since antiquity.\n",
            "13 Computer scientists and philosophers have since suggested that AI may become an existential risk to humanity if its rational capacities are not steered towards beneficial goals.\n",
            "14 The study of mechanical or \"formal\" reasoning began with philosophers and mathematicians in antiquity.\n",
            "15 The study of mathematical logic led directly to Alan Turing's theory of computation, which suggested that a machine, by shuffling symbols as simple as \"0\" and \"1\", could simulate any conceivable act of mathematical deduction.\n",
            "16 Proponents included Allen Newell, Herbert A. Simon, and Marvin Minsky.\n",
            "17 In the scope of its subject, chemistry occupies an intermediate position between physics and biology.\n",
            "18 It is sometimes called the central science because it provides a foundation for understanding both basic and applied scientific disciplines at a fundamental level.\n",
            "19 Primary chemical bonds, such covalent bonds, in which atoms share one or more electron(s); ionic bonds, in which an atom donates one or more electrons to another atom to produce ions (cations and anions);\n",
            "20 Secondary chemical bonds, such as hydrogen bonds; Van der Waals force bonds; ion-ion interaction; ion-dipole interaction\n",
            "21 Alchemy is often seen as linked to the quest to turn lead or other base metals into gold, though alchemists were also interested in many of the questions of modern chemistry.\n",
            "22 In chemistry, matter is defined as anything that has rest mass and volume (it takes up space) and is made up of particles.\n",
            "23 The atom is the basic unit of chemistry. It consists of a dense core called the atomic nucleus surrounded by a space occupied by an electron cloud.\n",
            "24 A chemical element is a pure substance which is composed of a single type of atom, characterized by its particular number of protons in the nuclei of its atoms, known as the atomic number and represented by the symbol Z.\n",
            "25 The mass number is the sum of the number of protons and neutrons in a nucleus.\n",
            "26 \n",
            "\n",
            "-------------------------------PREDICTIONS BY KNN------------------------------------------\n",
            "Cricket is a bat-and-ball game played between two teams of eleven players on a field at the centre of which is a 22-yard (20-metre) pitch with a wicket at each end, each comprising two bails balanced on three stumps. : Cricket\n",
            "Means of dismissal include being bowled, when the ball hits the stumps and dislodges the bails, and by the fielding side either catching the ball after it is hit by the bat, but before it hits the ground, or hitting a wicket with the ball before a batter can cross the crease in front of the wicket. : Cricket\n",
            "When ten batters have been dismissed, the innings ends and the teams swap roles. : Cricket\n",
            "The game is adjudicated by two umpires, aided by a third umpire and match referee in international matches. : Cricket\n",
            "They communicate with two off-field scorers who record the match's statistical information. : Cricket\n",
            "Forms of cricket range from Twenty20, with each team batting for a single innings of 20 overs and the game generally lasting three hours, to Test matches played over five days. : Cricket\n",
            "Traditionally cricketers play in all-white kit, but in limited overs cricket they wear club or team colours. In addition to the basic kit, some players wear protective gear to prevent injury caused by the ball, which is a hard, solid spheroid made of compressed leather with a slightly raised sewn seam enclosing a cork core layered with tightly wound string. : Cricket\n",
            "Women's cricket, which is organised and played separately, has also achieved international standard. : Cricket\n",
            "Artificial intelligence (AI) is intelligence demonstrated by machines, as opposed to the natural intelligence displayed by animals and humans. : AI\n",
            "AI research has been defined as the field of study of intelligent agents, which refers to any system that perceives its environment and takes actions that maximize its chance of achieving its goals. : AI\n",
            "The term \"artificial intelligence\" had previously been used to describe machines that mimic and display \"human\" cognitive skills that are associated with the human mind, such as \"learning\" and \"problem-solving\". : AI\n",
            "This definition has since been rejected by major AI researchers who now describe AI in terms of rationality and acting rationally, which does not limit how intelligence can be articulated. : AI\n",
            "This raised philosophical arguments about the mind and the ethical consequences of creating artificial beings endowed with human-like intelligence; these issues have previously been explored by myth, fiction and philosophy since antiquity. : AI\n",
            "Computer scientists and philosophers have since suggested that AI may become an existential risk to humanity if its rational capacities are not steered towards beneficial goals. : AI\n",
            "The study of mechanical or \"formal\" reasoning began with philosophers and mathematicians in antiquity. : Chemistry\n",
            "The study of mathematical logic led directly to Alan Turing's theory of computation, which suggested that a machine, by shuffling symbols as simple as \"0\" and \"1\", could simulate any conceivable act of mathematical deduction. : AI\n",
            "Proponents included Allen Newell, Herbert A. Simon, and Marvin Minsky. : Cricket\n",
            "In the scope of its subject, chemistry occupies an intermediate position between physics and biology. : Chemistry\n",
            "It is sometimes called the central science because it provides a foundation for understanding both basic and applied scientific disciplines at a fundamental level. : Chemistry\n",
            "Primary chemical bonds, such covalent bonds, in which atoms share one or more electron(s); ionic bonds, in which an atom donates one or more electrons to another atom to produce ions (cations and anions); : Chemistry\n",
            "Secondary chemical bonds, such as hydrogen bonds; Van der Waals force bonds; ion-ion interaction; ion-dipole interaction : Chemistry\n",
            "Alchemy is often seen as linked to the quest to turn lead or other base metals into gold, though alchemists were also interested in many of the questions of modern chemistry. : Chemistry\n",
            "In chemistry, matter is defined as anything that has rest mass and volume (it takes up space) and is made up of particles. : Chemistry\n",
            "The atom is the basic unit of chemistry. It consists of a dense core called the atomic nucleus surrounded by a space occupied by an electron cloud. : Chemistry\n",
            "A chemical element is a pure substance which is composed of a single type of atom, characterized by its particular number of protons in the nuclei of its atoms, known as the atomic number and represented by the symbol Z. : Chemistry\n",
            "The mass number is the sum of the number of protons and neutrons in a nucleus. : Chemistry\n",
            " : Cricket\n",
            "\n",
            "-------------------------------PREDICTIONS BY K-Means--------------------------------------\n",
            "\n",
            "Index of Cricket cluster :  2\n",
            "Index of Artificial Intelligence cluster :  0\n",
            "Index of Chemistry cluster :  1\n",
            "\n",
            "\n",
            "Cricket is a bat-and-ball game played between two teams of eleven players on a field at the centre of which is a 22-yard (20-metre) pitch with a wicket at each end, each comprising two bails balanced on three stumps. : 2\n",
            "Means of dismissal include being bowled, when the ball hits the stumps and dislodges the bails, and by the fielding side either catching the ball after it is hit by the bat, but before it hits the ground, or hitting a wicket with the ball before a batter can cross the crease in front of the wicket. : 2\n",
            "When ten batters have been dismissed, the innings ends and the teams swap roles. : 2\n",
            "The game is adjudicated by two umpires, aided by a third umpire and match referee in international matches. : 2\n",
            "They communicate with two off-field scorers who record the match's statistical information. : 0\n",
            "Forms of cricket range from Twenty20, with each team batting for a single innings of 20 overs and the game generally lasting three hours, to Test matches played over five days. : 2\n",
            "Traditionally cricketers play in all-white kit, but in limited overs cricket they wear club or team colours. In addition to the basic kit, some players wear protective gear to prevent injury caused by the ball, which is a hard, solid spheroid made of compressed leather with a slightly raised sewn seam enclosing a cork core layered with tightly wound string. : 2\n",
            "Women's cricket, which is organised and played separately, has also achieved international standard. : 2\n",
            "Artificial intelligence (AI) is intelligence demonstrated by machines, as opposed to the natural intelligence displayed by animals and humans. : 0\n",
            "AI research has been defined as the field of study of intelligent agents, which refers to any system that perceives its environment and takes actions that maximize its chance of achieving its goals. : 0\n",
            "The term \"artificial intelligence\" had previously been used to describe machines that mimic and display \"human\" cognitive skills that are associated with the human mind, such as \"learning\" and \"problem-solving\". : 0\n",
            "This definition has since been rejected by major AI researchers who now describe AI in terms of rationality and acting rationally, which does not limit how intelligence can be articulated. : 0\n",
            "This raised philosophical arguments about the mind and the ethical consequences of creating artificial beings endowed with human-like intelligence; these issues have previously been explored by myth, fiction and philosophy since antiquity. : 0\n",
            "Computer scientists and philosophers have since suggested that AI may become an existential risk to humanity if its rational capacities are not steered towards beneficial goals. : 0\n",
            "The study of mechanical or \"formal\" reasoning began with philosophers and mathematicians in antiquity. : 0\n",
            "The study of mathematical logic led directly to Alan Turing's theory of computation, which suggested that a machine, by shuffling symbols as simple as \"0\" and \"1\", could simulate any conceivable act of mathematical deduction. : 0\n",
            "Proponents included Allen Newell, Herbert A. Simon, and Marvin Minsky. : 0\n",
            "In the scope of its subject, chemistry occupies an intermediate position between physics and biology. : 0\n",
            "It is sometimes called the central science because it provides a foundation for understanding both basic and applied scientific disciplines at a fundamental level. : 0\n",
            "Primary chemical bonds, such covalent bonds, in which atoms share one or more electron(s); ionic bonds, in which an atom donates one or more electrons to another atom to produce ions (cations and anions); : 1\n",
            "Secondary chemical bonds, such as hydrogen bonds; Van der Waals force bonds; ion-ion interaction; ion-dipole interaction : 1\n",
            "Alchemy is often seen as linked to the quest to turn lead or other base metals into gold, though alchemists were also interested in many of the questions of modern chemistry. : 0\n",
            "In chemistry, matter is defined as anything that has rest mass and volume (it takes up space) and is made up of particles. : 0\n",
            "The atom is the basic unit of chemistry. It consists of a dense core called the atomic nucleus surrounded by a space occupied by an electron cloud. : 0\n",
            "A chemical element is a pure substance which is composed of a single type of atom, characterized by its particular number of protons in the nuclei of its atoms, known as the atomic number and represented by the symbol Z. : 1\n",
            "The mass number is the sum of the number of protons and neutrons in a nucleus. : 0\n",
            " : 0\n",
            "\n",
            "\n"
          ]
        },
        {
          "output_type": "stream",
          "name": "stderr",
          "text": [
            "/usr/local/lib/python3.7/dist-packages/ipykernel_launcher.py:29: DeprecationWarning: `np.int` is a deprecated alias for the builtin `int`. To silence this warning, use `int` by itself. Doing this will not modify any behavior and is safe. When replacing `np.int`, you may wish to use e.g. `np.int64` or `np.int32` to specify the precision. If you wish to review your current use, check the release note link for additional information.\n",
            "Deprecated in NumPy 1.20; for more details and guidance: https://numpy.org/devdocs/release/1.20.0-notes.html#deprecations\n"
          ]
        }
      ],
      "source": [
        "test_sentences = [\"Chemical compunds are used for preparing bombs based on some reactions\",\n",
        "                  \"Cricket is a boring game where the batsman only enjoys the game\", #marim për testim këto tre fjali \n",
        "                  \"Machine learning is an area of Artificial intelligence\"]  #të cilat do i klasifikojmë dhe grupojmë\n",
        "\n",
        "test_clean_sentence = []\n",
        "for test in test_clean_sentences:\n",
        "    cleaned_test = clean(test)\n",
        "    cleaned = ' '.join(cleaned_test)\n",
        "    cleaned = re.sub(r\"\\d+\",\"\",cleaned)\n",
        "    test_clean_sentence.append(cleaned)\n",
        "    \n",
        "Test = vectorizer.transform(test_clean_sentence) \n",
        "\n",
        "true_test_labels = ['Cricket','AI','Chemistry']  #percaktoj etiketat sipas te cilave do klasifikohen\n",
        "predicted_labels_knn = modelknn.predict(Test)  #parashikimet sipas KNN\n",
        "predicted_labels_kmeans = modelkmeans.predict(Test)   #parashikimet sipas K-means\n",
        "\n",
        "print (\"\\nBelow 3 sentences will be predicted against the learned nieghbourhood and learned clusters: \")\n",
        "\n",
        "i = 0;\n",
        "for sentence in test_clean_sentences:\n",
        "  print(i,sentence)\n",
        "  i+=1\n",
        "       # test_sentences[0],\"\\n2. \",test_sentences[1],\"\\n3. \",test_sentences[2], \"\\n4. \",test_sentences[3] )\n",
        "\n",
        "i = 0;\n",
        "print (\"\\n-------------------------------PREDICTIONS BY KNN------------------------------------------\")\n",
        "for sentence in test_clean_sentences:\n",
        "  print(sentence,\":\",true_test_labels[np.int(predicted_labels_knn[i])])\n",
        "  i+=1\n",
        "\n",
        "\n",
        "print (\"\\n-------------------------------PREDICTIONS BY K-Means--------------------------------------\")\n",
        "print (\"\\nIndex of Cricket cluster : \",Counter(modelkmeans.labels_[0:10]).most_common(1)[0][0])\n",
        "print (\"Index of Artificial Intelligence cluster : \", Counter(modelkmeans.labels_[10:20]).most_common(1)[0][0]) #Counter(modelkmeans.labels_[10:20]).most_common(1)[0][0]\n",
        "print (\"Index of Chemistry cluster : \",Counter(modelkmeans.labels_[20:30]).most_common(1)[0][0])\n",
        "\n",
        "print(\"\\n\")\n",
        "i = 0;\n",
        "for sentence in test_clean_sentences:\n",
        "  print(sentence,\":\",predicted_labels_kmeans[i])\n",
        "  i+=1\n",
        "\n",
        "print (\"\\n\")\n",
        "\n",
        "\n"
      ]
    },
    {
      "cell_type": "code",
      "source": [
        "from google.colab import drive\n",
        "drive.mount('/content/drive')"
      ],
      "metadata": {
        "colab": {
          "base_uri": "https://localhost:8080/"
        },
        "id": "1jNK0EUcwcIT",
        "outputId": "3b3c8da4-91e0-4e3c-a771-2362225f6511"
      },
      "execution_count": null,
      "outputs": [
        {
          "output_type": "stream",
          "name": "stdout",
          "text": [
            "Mounted at /content/drive\n"
          ]
        }
      ]
    },
    {
      "cell_type": "markdown",
      "source": [
        "Accuracy per KNN"
      ],
      "metadata": {
        "id": "Mt5-LcofMGXZ"
      }
    },
    {
      "cell_type": "code",
      "source": [
        "#Import scikit-learn metrics module for accuracy calculation\n",
        "from sklearn import metrics\n",
        "y_test = []\n",
        "i = 0\n",
        "for i in range(0,27):\n",
        "  if i < 8:\n",
        "    y_test.append(0)\n",
        "  if (i >=8 and i<=16):\n",
        "    y_test.append(1)\n",
        "  if (i>16):\n",
        "    y_test.append(2)\n",
        "\n",
        "print(y_test)\n",
        "\n",
        "print(\"Accuracy KNN:\",metrics.accuracy_score(y_test, predicted_labels_knn))\n",
        "\n",
        "\n",
        "y_test_Kmeans = []\n",
        "i = 0\n",
        "for i in range(0,27):\n",
        "  if i < 8:\n",
        "    y_test_Kmeans.append(Counter(modelkmeans.labels_[0:10]).most_common(1)[0][0])\n",
        "  if (i >=8 and i<=16):\n",
        "    y_test_Kmeans.append(Counter(modelkmeans.labels_[10:20]).most_common(1)[0][0])\n",
        "  if (i>16):\n",
        "    y_test_Kmeans.append(Counter(modelkmeans.labels_[20:30]).most_common(1)[0][0])\n",
        "print(predicted_labels_kmeans)\n",
        "print(\"Accuracy KMeans:\",metrics.accuracy_score(y_test_Kmeans, predicted_labels_kmeans))\n",
        "\n",
        "from sklearn.metrics import accuracy_score, classification_report\n",
        "print(\"============== KNN ===================\")\n",
        "print(classification_report(y_test, predicted_labels_knn))\n",
        "print(\"============== KMEANS ===================\")\n",
        "print(classification_report(y_test_Kmeans, predicted_labels_kmeans))\n",
        "\n",
        "\n"
      ],
      "metadata": {
        "id": "P3T1ju1OO5l0",
        "colab": {
          "base_uri": "https://localhost:8080/"
        },
        "outputId": "0f7b6519-7b86-423e-ba23-fea603a401f5"
      },
      "execution_count": null,
      "outputs": [
        {
          "output_type": "stream",
          "name": "stdout",
          "text": [
            "[0, 0, 0, 0, 0, 0, 0, 0, 1, 1, 1, 1, 1, 1, 1, 1, 1, 2, 2, 2, 2, 2, 2, 2, 2, 2, 2]\n",
            "Accuracy KNN: 0.8888888888888888\n",
            "[2 2 2 2 0 2 2 2 0 0 0 0 0 0 0 0 0 0 0 1 1 0 0 0 1 0 0]\n",
            "Accuracy KMeans: 0.7037037037037037\n",
            "============== KNN ===================\n",
            "              precision    recall  f1-score   support\n",
            "\n",
            "           0       0.80      1.00      0.89         8\n",
            "           1       1.00      0.78      0.88         9\n",
            "           2       0.90      0.90      0.90        10\n",
            "\n",
            "    accuracy                           0.89        27\n",
            "   macro avg       0.90      0.89      0.89        27\n",
            "weighted avg       0.90      0.89      0.89        27\n",
            "\n",
            "============== KMEANS ===================\n",
            "              precision    recall  f1-score   support\n",
            "\n",
            "           0       0.53      1.00      0.69         9\n",
            "           1       1.00      0.30      0.46        10\n",
            "           2       1.00      0.88      0.93         8\n",
            "\n",
            "    accuracy                           0.70        27\n",
            "   macro avg       0.84      0.72      0.70        27\n",
            "weighted avg       0.84      0.70      0.68        27\n",
            "\n"
          ]
        }
      ]
    },
    {
      "cell_type": "code",
      "source": [
        "import matplotlib.pyplot as plt\n",
        "plt.figure(figsize = (15,5))\n",
        "plt.subplot(1,2,1)\n",
        "plt.scatter(y_test, y_test,c=predicted_labels_knn, marker= '*', s=100,edgecolors='black')\n",
        "plt.title(\"Vlerat e parashikuara nga KNN\")\n",
        "\n",
        "plt.figure(figsize = (15,5))\n",
        "plt.subplot(1,2,1)\n",
        "plt.scatter(y_test_Kmeans,  y_test_Kmeans, c=predicted_labels_kmeans, marker= '*', s=100,edgecolors='black')\n",
        "plt.title(\"Vlerat e parashikuara nga KMeans\")"
      ],
      "metadata": {
        "colab": {
          "base_uri": "https://localhost:8080/",
          "height": 672
        },
        "id": "YRkmLOXRM_NZ",
        "outputId": "3d30cb0c-74db-4a87-fb93-71e28c077e52"
      },
      "execution_count": null,
      "outputs": [
        {
          "output_type": "execute_result",
          "data": {
            "text/plain": [
              "Text(0.5, 1.0, 'Vlerat e parashikuara nga KMeans')"
            ]
          },
          "metadata": {},
          "execution_count": 24
        },
        {
          "output_type": "display_data",
          "data": {
            "text/plain": [
              "<Figure size 1080x360 with 1 Axes>"
            ],
            "image/png": "[encoded data removed]"
          },
          "metadata": {
            "needs_background": "light"
          }
        },
        {
          "output_type": "display_data",
          "data": {
            "text/plain": [
              "<Figure size 1080x360 with 1 Axes>"
            ],
            "image/png": "[encoded data removed]"
          },
          "metadata": {
            "needs_background": "light"
          }
        }
      ]
    }
  ]
}