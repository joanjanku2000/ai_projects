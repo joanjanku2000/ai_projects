{
  "nbformat": 4,
  "nbformat_minor": 0,
  "metadata": {
    "accelerator": "GPU",
    "colab": {
      "provenance": [],
      "machine_shape": "hm",
      "include_colab_link": true
    },
    "kernelspec": {
      "display_name": "Python 3",
      "language": "python",
      "name": "python3"
    },
    "language_info": {
      "codemirror_mode": {
        "name": "ipython",
        "version": 3
      },
      "file_extension": ".py",
      "mimetype": "text/x-python",
      "name": "python",
      "nbconvert_exporter": "python",
      "pygments_lexer": "ipython3",
      "version": "3.8.5"
    }
  },
  "cells": [
    {
      "cell_type": "markdown",
      "metadata": {
        "id": "view-in-github",
        "colab_type": "text"
      },
      "source": [
        "<a href=\"https://colab.research.google.com/github/joanjanku2000/ai_projects/blob/AI-1/Audio_Classification_(5).ipynb\" target=\"_parent\"><img src=\"https://colab.research.google.com/assets/colab-badge.svg\" alt=\"Open In Colab\"/></a>"
      ]
    },
    {
      "cell_type": "markdown",
      "metadata": {
        "id": "QojetWgvJLJd"
      },
      "source": [
        "#Dataseti me audiot gjendet ne drive\n",
        "\n"
      ]
    },
    {
      "cell_type": "code",
      "metadata": {
        "colab": {
          "base_uri": "https://localhost:8080/"
        },
        "id": "rjoneMwt-tFZ",
        "outputId": "e79609b8-a221-4420-a7c2-4b61ac09b6eb"
      },
      "source": [
        "from google.colab import drive\n",
        "drive.mount('/content/drive')"
      ],
      "execution_count": null,
      "outputs": [
        {
          "name": "stdout",
          "output_type": "stream",
          "text": [
            "Mounted at /content/drive\n"
          ]
        }
      ]
    },
    {
      "cell_type": "markdown",
      "metadata": {
        "id": "eo1Pm1Obg0PT"
      },
      "source": [
        "# Importimi i librarive te nevojshme per zgjidhjen e problemit"
      ]
    },
    {
      "cell_type": "code",
      "metadata": {
        "id": "8ISDUuFeX2b9"
      },
      "source": [
        "import tensorflow as tf\n",
        "from tensorflow.keras import Sequential\n",
        "from tensorflow.keras.layers import Flatten, Dense, Dropout, BatchNormalization, Conv2D, MaxPool2D\n",
        "from tensorflow.keras.optimizers import Adam\n",
        "from tensorflow.keras.preprocessing import image\n"
      ],
      "execution_count": null,
      "outputs": []
    },
    {
      "cell_type": "code",
      "metadata": {
        "id": "LeQqHyi1UNZ6"
      },
      "source": [
        "import numpy as np\n",
        "import matplotlib.pyplot as plt"
      ],
      "execution_count": null,
      "outputs": []
    },
    {
      "cell_type": "code",
      "metadata": {
        "id": "NtgVGExZh7TO"
      },
      "source": [
        "from tensorflow.keras.utils import to_categorical\n",
        "import librosa"
      ],
      "execution_count": null,
      "outputs": []
    },
    {
      "cell_type": "markdown",
      "metadata": {
        "id": "MnSsfmXltW2b"
      },
      "source": [
        "#Funksioni qe konverton audiot wav ne spectograma\n"
      ]
    },
    {
      "cell_type": "code",
      "metadata": {
        "id": "G-E32j3TJSFr"
      },
      "source": [
        "from os import listdir\n",
        "from os.path import isfile, join\n",
        "\n",
        "from matplotlib import pyplot as plt\n",
        "import scipy.io.wavfile as wav\n",
        "\n",
        "\n",
        "def wav_to_spectrogram(audio_path, save_path, spectrogram_dimensions=(256, 256), noverlap=16, cmap='gray_r'):\n",
        "\n",
        "    sample_rate, samples = wav.read(audio_path)\n",
        "\n",
        "    fig = plt.figure()\n",
        "    fig.set_size_inches((spectrogram_dimensions[0]/fig.get_dpi(), spectrogram_dimensions[1]/fig.get_dpi()))\n",
        "    ax = plt.Axes(fig, [0., 0., 1., 1.])\n",
        "    ax.set_axis_off()\n",
        "    fig.add_axes(ax)\n",
        "    ax.specgram(samples, cmap=cmap, Fs=2, noverlap=noverlap)\n",
        "    ax.xaxis.set_major_locator(plt.NullLocator())\n",
        "    ax.yaxis.set_major_locator(plt.NullLocator())\n",
        "    fig.savefig(save_path, bbox_inches=\"tight\", pad_inches=0)\n",
        "\n",
        "\n",
        "def dir_to_spectrogram(audio_dir, spectrogram_dir, spectrogram_dimensions=(256, 256), noverlap=16, cmap='gray_r'):\n",
        "\n",
        "    file_names = [f for f in listdir(audio_dir) if isfile(join(audio_dir, f)) and '.wav' in f]\n",
        "\n",
        "    for file_name in file_names:\n",
        "        print(file_name)\n",
        "        audio_path = audio_dir + file_name\n",
        "        spectogram_path = spectrogram_dir + file_name.replace('.wav', '.png')\n",
        "        wav_to_spectrogram(audio_path, spectogram_path, spectrogram_dimensions=spectrogram_dimensions, \n",
        "                           noverlap=noverlap, cmap=cmap)"
      ],
      "execution_count": null,
      "outputs": []
    },
    {
      "cell_type": "markdown",
      "metadata": {
        "id": "mL7JAgWStdHB"
      },
      "source": [
        "#Thirrja e funksionit te siper-definuar per pathet specifike ku gjendet dataseti si dhe direktorine target ku do te ruhen spektogramat"
      ]
    },
    {
      "cell_type": "code",
      "metadata": {
        "id": "TAWmvjlFKVPL"
      },
      "source": [
        "audio_dir = \"/content/drive/My Drive/Diploma_Data_Set_1/\"\n",
        "spectrogram_dir = \"/content/drive/My Drive/Diploma_Data_Set_1/Spectograms/\"\n",
        "dir_to_spectrogram(audio_dir, spectrogram_dir)"
      ],
      "execution_count": null,
      "outputs": []
    },
    {
      "cell_type": "markdown",
      "metadata": {
        "id": "pvl47uP4trhS"
      },
      "source": [
        "#Importimi i imazheve prej pathit ku jane save-uar"
      ]
    },
    {
      "cell_type": "code",
      "metadata": {
        "id": "lB8Ea8YQRuTe"
      },
      "source": [
        "import glob\n",
        "import random\n",
        "\n",
        "images = glob.glob('/content/drive/My Drive/Diploma_Data_Set_1/Spectograms/*')\n",
        "print(len(images))"
      ],
      "execution_count": null,
      "outputs": []
    },
    {
      "cell_type": "markdown",
      "metadata": {
        "id": "FYDzPMIshPxD"
      },
      "source": [
        "## Ekstraktimi automatik i klasave nga dataseti ekzistues"
      ]
    },
    {
      "cell_type": "markdown",
      "metadata": {
        "id": "tV4HOnXZhd3i"
      },
      "source": [
        "### Marrja e emrave nga pathi ku gjenden imazhet dhe ruajtja e tyre ne matricat perkatese. Ndarja ne en/sq behet sipas fomatit qe jane audiot"
      ]
    },
    {
      "cell_type": "code",
      "metadata": {
        "id": "_kPBzCIOR7hD"
      },
      "source": [
        "images_names = []\n",
        "labels = []\n",
        "for i in images:\n",
        "  split = []\n",
        "  digit = []\n",
        "  split = i.split('/')\n",
        "  images_names.append(split[6])\n",
        "  digit = split[6].split('-')\n",
        "  labels.append(digit[0])"
      ],
      "execution_count": null,
      "outputs": []
    },
    {
      "cell_type": "code",
      "metadata": {
        "colab": {
          "base_uri": "https://localhost:8080/"
        },
        "id": "DVe9hrfaVHNF",
        "outputId": "4d16e0ca-51fc-49e9-bad6-8c5d98d1d64a"
      },
      "source": [
        "print(len(images_names))\n",
        "print(len(labels))"
      ],
      "execution_count": null,
      "outputs": [
        {
          "name": "stdout",
          "output_type": "stream",
          "text": [
            "260\n",
            "260\n"
          ]
        }
      ]
    },
    {
      "cell_type": "markdown",
      "metadata": {
        "id": "Ee74bcwDhuu6"
      },
      "source": [
        "## Ndarja e klasave unike qe gjenden, konkretisht 2 anglisht dhe shqip. Kjo me ndihmen e numpy -> unique function"
      ]
    },
    {
      "cell_type": "code",
      "metadata": {
        "colab": {
          "base_uri": "https://localhost:8080/"
        },
        "id": "GSAkg7mJXcif",
        "outputId": "164253fa-6c59-48a4-ced7-0c84dc60dab2"
      },
      "source": [
        "labels = np.array(labels)\n",
        "classes = np.unique(labels)\n",
        "nClasses = len(classes)\n",
        "print('classes:{}'.format(classes))\n",
        "print('Number of classes:{}'.format(nClasses))"
      ],
      "execution_count": null,
      "outputs": [
        {
          "name": "stdout",
          "output_type": "stream",
          "text": [
            "classes:['en' 'sq']\n",
            "Number of classes:2\n"
          ]
        }
      ]
    },
    {
      "cell_type": "code",
      "metadata": {
        "id": "SvOe2qYmgT1j"
      },
      "source": [
        "labels = labels.reshape(labels.shape[-1],1)"
      ],
      "execution_count": null,
      "outputs": []
    },
    {
      "cell_type": "markdown",
      "metadata": {
        "id": "5FQAYFB_iJOh"
      },
      "source": [
        "## Kategorizimi i labels (pra labels jane en- anglisht, sq - shqip)"
      ]
    },
    {
      "cell_type": "code",
      "metadata": {
        "id": "7atzffbCZutb"
      },
      "source": [
        "from sklearn import preprocessing\n",
        "label_encoder = preprocessing.LabelEncoder()\n",
        "labels = label_encoder.fit_transform(labels)\n",
        "\n",
        "print(labels.shape)\n",
        "\n",
        "from tensorflow.keras.utils import to_categorical\n",
        "labels = to_categorical(labels)\n",
        "\n",
        "print(labels.shape)"
      ],
      "execution_count": null,
      "outputs": []
    },
    {
      "cell_type": "markdown",
      "metadata": {
        "id": "bcP7FmXzib4p"
      },
      "source": [
        "## Pergatitja e imazheve per t'u ushqyer ne rrjete"
      ]
    },
    {
      "cell_type": "code",
      "metadata": {
        "id": "WNfvki85RYUV"
      },
      "source": [
        "from tensorflow.keras.preprocessing import image\n",
        "from matplotlib.pyplot import imread\n",
        "from tqdm import tqdm\n",
        "img_width = 512\n",
        "img_height = 512\n",
        "X = []\n",
        "for img_name in tqdm(images_names):\n",
        "    image_path = '/content/drive/My Drive/Diploma_Data_Set_1/Spectograms/' + str(img_name)\n",
        "    img = image.load_img(image_path,grayscale=True,target_size=(img_width, img_height))\n",
        "    img = image.img_to_array(img)\n",
        "    img = img/255.0\n",
        "    X.append(img)\n",
        "\n",
        "Xtrain = np.array(X)"
      ],
      "execution_count": null,
      "outputs": []
    },
    {
      "cell_type": "markdown",
      "metadata": {
        "id": "HupdB2_qigzb"
      },
      "source": [
        "## Ndarja e te dhenave ne raportin 80% training data dhe 20% test data"
      ]
    },
    {
      "cell_type": "code",
      "metadata": {
        "id": "GqV6fx2aQnhh"
      },
      "source": [
        "from sklearn.model_selection import train_test_split\n",
        "X_train, x_test, Y_labels, y_test_labels = train_test_split(Xtrain, labels, random_state = 0, test_size = 0.20)"
      ],
      "execution_count": null,
      "outputs": []
    },
    {
      "cell_type": "code",
      "metadata": {
        "colab": {
          "base_uri": "https://localhost:8080/"
        },
        "id": "AT3Tj4ZrQ_WA",
        "outputId": "123eb673-dacf-4ae8-87d9-6459ac147f35"
      },
      "source": [
        "print(X_train.shape)\n",
        "print(x_test.shape)"
      ],
      "execution_count": null,
      "outputs": [
        {
          "name": "stdout",
          "output_type": "stream",
          "text": [
            "(208, 512, 512, 1)\n",
            "(52, 512, 512, 1)\n"
          ]
        }
      ]
    },
    {
      "cell_type": "markdown",
      "metadata": {
        "id": "rGsP7qOkinHR"
      },
      "source": [
        "## Pergatitja e modelit"
      ]
    },
    {
      "cell_type": "code",
      "metadata": {
        "id": "BQUj4gxlXiAr"
      },
      "source": [
        "model = Sequential()\n",
        "model.add(Conv2D(32, kernel_size=(3, 3), activation='relu', input_shape=X_train[0].shape))\n",
        "model.add(Conv2D(64, kernel_size=(3, 3), activation='relu'))\n",
        "model.add(MaxPool2D(pool_size=(2, 2)))\n",
        "model.add(Dropout(0.25))\n",
        "model.add(Flatten())\n",
        "model.add(Dense(128, activation='relu'))\n",
        "model.add(Dropout(0.5))\n",
        "model.add(Dense(nClasses, activation='softmax'))"
      ],
      "execution_count": null,
      "outputs": []
    },
    {
      "cell_type": "code",
      "metadata": {
        "id": "7KikbXxgYI_D"
      },
      "source": [
        "model.summary()"
      ],
      "execution_count": null,
      "outputs": []
    },
    {
      "cell_type": "code",
      "metadata": {
        "id": "mxXGxwQ0YNC0"
      },
      "source": [
        "import keras\n",
        "model.compile(loss=keras.losses.binary_crossentropy, optimizer='adam', metrics=['binary_accuracy'])"
      ],
      "execution_count": null,
      "outputs": []
    },
    {
      "cell_type": "code",
      "metadata": {
        "colab": {
          "background_save": true
        },
        "id": "pIN4TPkeYnJv"
      },
      "source": [
        "history = model.fit(X_train, Y_labels, batch_size=4, epochs=10, verbose=1)"
      ],
      "execution_count": null,
      "outputs": []
    },
    {
      "cell_type": "code",
      "metadata": {
        "id": "CvKqhkYejuaL"
      },
      "source": [
        "def plot_learningCurve(history, epoch):\n",
        "  epoch_range = range(1, epoch+1)\n",
        "  plt.plot(epoch_range, history.history['binary_accuracy'])\n",
        "  # plt.plot(epoch_range, history.history['val_accuracy'])\n",
        "  plt.title('Saktesia e modelit')\n",
        "  plt.ylabel('Saktesia')\n",
        "  plt.xlabel('Epoch')\n",
        "  plt.legend(['Train', 'Val'], loc='upper left')\n",
        "  plt.show()\n",
        "\n",
        "  # Plot training & validation loss values\n",
        "  plt.plot(epoch_range, history.history['loss'])\n",
        "  # plt.plot(epoch_range, history.history['val_loss'])\n",
        "  plt.title('Humbjet e modelit')\n",
        "  plt.ylabel('Humbjet')\n",
        "  plt.xlabel('Epoch')\n",
        "  plt.legend(['Train', 'Val'], loc='upper left')\n",
        "  plt.show()\n",
        "\n",
        "plot_learningCurve(history, 10)"
      ],
      "execution_count": null,
      "outputs": []
    },
    {
      "cell_type": "markdown",
      "metadata": {
        "id": "ipEYfW7GirJh"
      },
      "source": [
        "## Evaluimi i modelit me te dhena test (20% qe na mbeti)"
      ]
    },
    {
      "cell_type": "code",
      "metadata": {
        "colab": {
          "base_uri": "https://localhost:8080/"
        },
        "id": "yuOy77HelpxS",
        "outputId": "44c01ae9-cb9d-4eac-ebd6-589bc40a3408"
      },
      "source": [
        "model.evaluate(x_test, y_test_labels)"
      ],
      "execution_count": null,
      "outputs": [
        {
          "name": "stdout",
          "output_type": "stream",
          "text": [
            "2/2 [==============================] - 5s 3s/step - loss: 0.1499 - binary_accuracy: 0.9231\n"
          ]
        },
        {
          "data": {
            "text/plain": [
              "[0.14991140365600586, 0.9230769276618958]"
            ]
          },
          "execution_count": 20,
          "metadata": {},
          "output_type": "execute_result"
        }
      ]
    },
    {
      "cell_type": "code",
      "metadata": {
        "id": "PAasfmH4mUCT"
      },
      "source": [
        "print(x_test.shape)\n",
        "predictions = model.predict(x_test)"
      ],
      "execution_count": null,
      "outputs": []
    },
    {
      "cell_type": "code",
      "metadata": {
        "colab": {
          "base_uri": "https://localhost:8080/"
        },
        "id": "_HnAQG8RmdML",
        "outputId": "ef42c9fc-4b94-4b87-a2a4-e74eb5dd8598"
      },
      "source": [
        "y_pred = []\n",
        "for i in range(0,len(predictions)):\n",
        "  y_pred.append(np.argmax(predictions[i]))\n",
        "y_pred = np.array(y_pred)\n",
        "print(y_pred.shape)"
      ],
      "execution_count": null,
      "outputs": [
        {
          "name": "stdout",
          "output_type": "stream",
          "text": [
            "(52,)\n"
          ]
        }
      ]
    },
    {
      "cell_type": "code",
      "metadata": {
        "colab": {
          "base_uri": "https://localhost:8080/"
        },
        "id": "ylk6LT9PmsC5",
        "outputId": "436f849e-1012-437d-b32b-f0bd7f0ff244"
      },
      "source": [
        "y_classes = [np.argmax(y, axis=None, out=None) for y in y_test_labels]\n",
        "y_classes = np.array(y_classes)\n",
        "print(y_classes.shape)"
      ],
      "execution_count": null,
      "outputs": [
        {
          "name": "stdout",
          "output_type": "stream",
          "text": [
            "(52,)\n"
          ]
        }
      ]
    },
    {
      "cell_type": "code",
      "metadata": {
        "colab": {
          "base_uri": "https://localhost:8080/"
        },
        "id": "fR2f67Tjl6Sh",
        "outputId": "df5f6a66-10c2-4c32-f683-11272be31687"
      },
      "source": [
        "from sklearn.metrics import classification_report, confusion_matrix\n",
        "print(confusion_matrix(y_classes, y_pred))\n",
        "print(classification_report(y_classes, y_pred))"
      ],
      "execution_count": null,
      "outputs": [
        {
          "name": "stdout",
          "output_type": "stream",
          "text": [
            "[[27  0]\n",
            " [ 0 25]]\n",
            "              precision    recall  f1-score   support\n",
            "\n",
            "           0       1.00      1.00      1.00        27\n",
            "           1       1.00      1.00      1.00        25\n",
            "\n",
            "    accuracy                           1.00        52\n",
            "   macro avg       1.00      1.00      1.00        52\n",
            "weighted avg       1.00      1.00      1.00        52\n",
            "\n"
          ]
        }
      ]
    },
    {
      "cell_type": "code",
      "metadata": {
        "id": "Mvr_4PNfi_TR"
      },
      "source": [],
      "execution_count": null,
      "outputs": []
    }
  ]
}